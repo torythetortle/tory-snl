{
 "cells": [
  {
   "cell_type": "code",
   "execution_count": 2,
   "metadata": {},
   "outputs": [
    {
     "ename": "SyntaxError",
     "evalue": "unterminated string literal (detected at line 4) (2317954160.py, line 4)",
     "output_type": "error",
     "traceback": [
      "\u001b[0;36m  Input \u001b[0;32mIn [2]\u001b[0;36m\u001b[0m\n\u001b[0;31m    <title>Jonathan Soma's Incredible Website</title>\u001b[0m\n\u001b[0m                        ^\u001b[0m\n\u001b[0;31mSyntaxError\u001b[0m\u001b[0;31m:\u001b[0m unterminated string literal (detected at line 4)\n"
     ]
    }
   ],
   "source": [
    "<!doctype html>\n",
    "<html>\n",
    "  <head>\n",
    "    <title>Jonathan Soma's Incredible Website</title>\n",
    "  </head>\n",
    "  <body>\n",
    "    <h1>Welcome to my website!</h1>\n",
    "  </body>\n",
    "</html>"
   ]
  },
  {
   "cell_type": "code",
   "execution_count": null,
   "metadata": {},
   "outputs": [],
   "source": [
    "Sketch comedy is notorious for hit or miss jests, with standing ovations or crickets depending on the actor’s last words. \n",
    "\n",
    "The actor’s double entendre’s serve to entertain the audience. But what makes a Saturday Night Live episode? What elements create the best atmosphere for a guaranteed laugh? \n",
    "\n",
    "The surprising truth is what people have favored and what they have not. \n",
    "\n",
    "This data dives deep into SNL seasons, episodes and cast members while exploring modern folklore surrounding the show. \n",
    "\n",
    "Saturday Night Live was created by Dick Ebersol and the G.O.A.T. of all producers Lorne Michaels. Its original focus was to emulate the experimental comedy sketches from places like Second City in Chicago, a standup comedy show where Michaels is rumored to still commonly look for his next talent. Cast members were coined the”not ready for primetime talent” because of the show's experimental aspects as well as the late time the show aired. \n",
    "\n",
    "Many of the cast members and writers have become considerably the greatest American comedians such as Eddie Murphy, Will Ferrell and goddess Kate McKinnon.   \n",
    "\n",
    "The first few years of SNL were fabulous, with their first six episodes being in the top 25. They hit a fault, then a fluke with season 21. From there, the ratings only grew. \n",
    "\n",
    "IMDB was created in 1990, after SNL. While the scores for any episode before this were not made during airing, all episodes are available on multiple streaming outlets and people have been able to score them since. \n",
    "\n",
    "These two charts are mildly conflicting. Why? The majority of cast members who were in the top 100 episodes were not in the top 10 seasons. This could mean the data means entirely nothing, or that Lorne Michaels is truly the greatest TV producer of all time. \n",
    "\n",
    "Comedy reflects the current culture. As time goes on and we are given more complex situations in society, people may be wanting to lean towards character or person rather than a whole idea. \n",
    "\n",
    "Looking purely at who has been there the longest and putting the odds in their favor that they will be in a top season or episode is not possible, other than with Kenan Thompson. Thompson has been on the show for over 18 years and nearly all the seasons he has been in are in the top. \n",
    "\n",
    "Thompson has also served a s producer on the show while being a cast member. He has given no indication of becoming  a permanent producer but considering his tenure at the comedy institution, it cannot be ruled out. \n",
    "\n",
    "Other cast members like Tim Meadows, a cast member throughout the 90’s, who did not have as many appearances in top episodes. Kate McKinnon is also considered one of the greatest cast members of all time, but did not have as many appearances in top episodes as one might expect. \n",
    "\n",
    "One issue that could also arise from this is the cast member’s abilities. Some cast members performed best as leading characters, like Kate McKinnon as Ruther Bader Ginsberg or Darrell Hammond as Bill Clinton. McKinnon typically held the sketches together and was the actor you would not forget. \n",
    "\n",
    "Other cast members performed well supporting the host throughout their sketches like Andy Samberg. Samberg tends to push towards Digital Shorts, pre-filmed sketches made to feel like Youtube videos. These shorts typically feature the episode's host and During Samberg’s years he tended to be the key supporting actor in these shorts, understanding what it takes to lift a joke from funny to hilarious while not actually saying it.\n",
    "\n",
    "Other cast members focused on creating quality characters rather  than being in multiple skits. Fred Armisen made specific characters like the saxophonist on “What's Up With That”. He helped pave the way for cast members to spend time honing a character through multiple skits, taking viewers on a storyline spanning multiple episodes. \n",
    "\n",
    "This data proves that as SNL went on, we appreciated the classic seasons while relating to more current actors. Michaels seems to have tricks up his sleeve than we realize, and possibly more data. \n",
    "\n",
    "This story was inspired by Kate McKinnon. If you know, you know. \n",
    "\n"
   ]
  }
 ],
 "metadata": {
  "kernelspec": {
   "display_name": "Python 3.10.4 64-bit",
   "language": "python",
   "name": "python3"
  },
  "language_info": {
   "codemirror_mode": {
    "name": "ipython",
    "version": 3
   },
   "file_extension": ".py",
   "mimetype": "text/x-python",
   "name": "python",
   "nbconvert_exporter": "python",
   "pygments_lexer": "ipython3",
   "version": "3.10.4"
  },
  "orig_nbformat": 4,
  "vscode": {
   "interpreter": {
    "hash": "aee8b7b246df8f9039afb4144a1f6fd8d2ca17a180786b69acc140d282b71a49"
   }
  }
 },
 "nbformat": 4,
 "nbformat_minor": 2
}
